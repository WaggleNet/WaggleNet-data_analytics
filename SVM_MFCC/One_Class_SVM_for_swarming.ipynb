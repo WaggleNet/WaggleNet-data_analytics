{
 "cells": [
  {
   "cell_type": "code",
   "execution_count": 2,
   "metadata": {},
   "outputs": [],
   "source": [
    "# import modules\n",
    "import librosa\n",
    "import sklearn as skl\n",
    "import numpy as np\n",
    "import scipy as sp"
   ]
  },
  {
   "cell_type": "code",
   "execution_count": 5,
   "metadata": {},
   "outputs": [
    {
     "name": "stdout",
     "output_type": "stream",
     "text": [
      "Swarming data shape: (44100, 1018)\n",
      "Non-swarming data shape: (44100, 1018)\n"
     ]
    }
   ],
   "source": [
    "# load audio data, audio data 'Y2' has 1018 examples, each of which is a 1s interval of swarming \n",
    "# audio data 'Y0' has 1018 examples, each of which is a 1s interval of not swarming.\n",
    "matrix = sp.io.loadmat('Y2.mat')\n",
    "data = matrix['Y']\n",
    "print(\"Swarming data shape:\",data.shape)\n",
    "matrix1 = sp.io.loadmat('Y0.mat')\n",
    "neg_data = matrix1['Y']\n",
    "print(\"Non-swarming data shape:\",neg_data.shape)"
   ]
  },
  {
   "cell_type": "code",
   "execution_count": 6,
   "metadata": {},
   "outputs": [
    {
     "name": "stdout",
     "output_type": "stream",
     "text": [
      "Feature shape (972,)\n"
     ]
    }
   ],
   "source": [
    "# librosa example\n",
    "features = librosa.feature.mfcc(y=data[:,1],sr=44100,n_mfcc=12,n_fft=880,n_mels = 64,hop_length = 550)\n",
    "features = features.flatten()\n",
    "print(\"Feature shape\",features.shape)"
   ]
  },
  {
   "cell_type": "code",
   "execution_count": 7,
   "metadata": {},
   "outputs": [
    {
     "name": "stdout",
     "output_type": "stream",
     "text": [
      "Positive feature data shape (1018, 972)\n",
      "Negative feature data shape (1018, 972)\n"
     ]
    }
   ],
   "source": [
    "# extract features using librosa's MFCC\n",
    "# for positive examples\n",
    "feature_arr = np.zeros((np.size(features),data.shape[1]))\n",
    "for i in range(data.shape[1]):\n",
    "    feature = librosa.feature.mfcc(y=data[:,i],sr=44100,n_mfcc=12,n_fft=880,n_mels = 64,hop_length = 550)\n",
    "    feature = feature.flatten()\n",
    "    variance = (np.var(feature, axis=0) + 1e-8)\n",
    "    feature -= (np.mean(feature, axis=0) + 1e-8)\n",
    "    feature /= np.sqrt(variance)                  # feature normalization(important for SVM)\n",
    "    feature_arr[:,i] = feature\n",
    "feature_arr = feature_arr.T\n",
    "print(\"Positive feature data shape\",feature_arr.shape)\n",
    "\n",
    "#for negative examples\n",
    "feature_arr_neg = np.zeros((np.size(features),neg_data.shape[1]))\n",
    "for i in range(neg_data.shape[1]):\n",
    "    feature = librosa.feature.mfcc(y=neg_data[:,i],sr=44100,n_mfcc=12,n_fft=880,n_mels = 64,hop_length = 550)\n",
    "    feature = feature.flatten()\n",
    "    variance = (np.var(feature, axis=0) + 1e-8)\n",
    "    feature -= (np.mean(feature, axis=0) + 1e-8)\n",
    "    feature /= np.sqrt(variance)                  # feature normalization\n",
    "    feature_arr_neg[:,i] = feature\n",
    "feature_arr_neg = feature_arr_neg.T\n",
    "print(\"Negative feature data shape\",feature_arr_neg.shape)"
   ]
  },
  {
   "cell_type": "code",
   "execution_count": 19,
   "metadata": {},
   "outputs": [
    {
     "name": "stdout",
     "output_type": "stream",
     "text": [
      "Positive example training error: 0.09857142857142857\n",
      "Positive example test error 0.1320754716981132\n",
      "Negative example test error 0.0\n"
     ]
    }
   ],
   "source": [
    "# One class SVM(unsupervised) using only positive (just a toy example anyway)\n",
    "permute = list(np.random.permutation(1018))\n",
    "feature_arr = feature_arr[permute,:]            # random permutation\n",
    "X_train = feature_arr[0:700,:]                  # train,test spilt\n",
    "X_test = feature_arr[700:1018,:]\n",
    "clf = skl.svm.OneClassSVM(nu=0.1, kernel=\"rbf\",gamma = 'auto')     #nu sets the target training error\n",
    "clf.fit(X_train)                                                   # fit the classifier\n",
    "# make predictions on training and test data\n",
    "y_pred_train = clf.predict(X_train)                                \n",
    "y_pred_test = clf.predict(X_test)\n",
    "y_pred_test_neg = clf.predict(feature_arr_neg)\n",
    "# print out the error\n",
    "n_error_train = y_pred_train[y_pred_train == -1].size\n",
    "n_error_test = y_pred_test[y_pred_test == -1].size\n",
    "n_error_test_neg = y_pred_test_neg[y_pred_test_neg == -1].size\n",
    "print(\"Positive example training error:\",n_error_train/700)\n",
    "print(\"Positive example test error\",n_error_test/(1018-700))\n",
    "print(\"Negative example test error\",1 - n_error_test_neg/1018)"
   ]
  }
 ],
 "metadata": {
  "kernelspec": {
   "display_name": "Python 3",
   "language": "python",
   "name": "python3"
  },
  "language_info": {
   "codemirror_mode": {
    "name": "ipython",
    "version": 3
   },
   "file_extension": ".py",
   "mimetype": "text/x-python",
   "name": "python",
   "nbconvert_exporter": "python",
   "pygments_lexer": "ipython3",
   "version": "3.5.4"
  }
 },
 "nbformat": 4,
 "nbformat_minor": 2
}
